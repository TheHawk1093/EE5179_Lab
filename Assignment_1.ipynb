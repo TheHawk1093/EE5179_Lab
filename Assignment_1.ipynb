{
  "nbformat": 4,
  "nbformat_minor": 0,
  "metadata": {
    "colab": {
      "provenance": [],
      "authorship_tag": "ABX9TyNShDHpTgPVC1CuNN0U1AeX",
      "include_colab_link": true
    },
    "kernelspec": {
      "name": "python3",
      "display_name": "Python 3"
    },
    "language_info": {
      "name": "python"
    }
  },
  "cells": [
    {
      "cell_type": "markdown",
      "metadata": {
        "id": "view-in-github",
        "colab_type": "text"
      },
      "source": [
        "<a href=\"https://colab.research.google.com/github/TheHawk1093/EE5179_Lab/blob/main/Assignment_1.ipynb\" target=\"_parent\"><img src=\"https://colab.research.google.com/assets/colab-badge.svg\" alt=\"Open In Colab\"/></a>"
      ]
    },
    {
      "cell_type": "code",
      "execution_count": 7,
      "metadata": {
        "id": "naOM4ueNvjgg",
        "colab": {
          "base_uri": "https://localhost:8080/"
        },
        "outputId": "616b2c5e-914d-4521-e475-01296af8a238"
      },
      "outputs": [
        {
          "output_type": "stream",
          "name": "stdout",
          "text": [
            "2.8.0+cu126\n"
          ]
        }
      ],
      "source": [
        "import torch\n",
        "print(torch.__version__)\n",
        "import torch.nn as nn\n",
        "import numpy as np\n",
        "\n",
        "import torch.optim as optim\n",
        "from torch.utils.data import DataLoader, TensorDataset\n",
        "\n",
        "import matplotlib.pyplot as plt"
      ]
    },
    {
      "cell_type": "code",
      "source": [
        "import torchvision\n",
        "import torchvision.datasets as datasets\n",
        "from torchvision import transforms\n",
        "\n",
        "transform = transforms.Compose([\n",
        "    transforms.ToTensor(),               # Converts to float tensor [0,1] and adds channel dimension\n",
        "    transforms.Lambda(lambda x: x.view(-1))  # Flatten tensor of dimension 28x28 to vector of size 784\n",
        "])\n",
        "\n",
        "mnist_trainset = datasets.MNIST(root='./data', train=True, download=True, transform=transform)\n",
        "mnist_testset = datasets.MNIST(root='./data', train=False, download=True, transform=transform)"
      ],
      "metadata": {
        "id": "lRnoYc-8hNhf"
      },
      "execution_count": 8,
      "outputs": []
    },
    {
      "cell_type": "code",
      "source": [
        "print(f\"The number of images in training dataset are {len(mnist_trainset)}\")\n",
        "print(f\"The number of images in test dataset are {len(mnist_testset)}\")\n",
        "\n",
        "print(mnist_trainset.data.shape)\n",
        "print(mnist_testset.data.shape)"
      ],
      "metadata": {
        "colab": {
          "base_uri": "https://localhost:8080/"
        },
        "id": "-l9-Asqxh1Rh",
        "outputId": "817c2542-d22a-49ec-8f12-5c95da34e682"
      },
      "execution_count": 9,
      "outputs": [
        {
          "output_type": "stream",
          "name": "stdout",
          "text": [
            "The number of images in training dataset are 60000\n",
            "The number of images in test dataset are 10000\n",
            "torch.Size([60000, 28, 28])\n",
            "torch.Size([10000, 28, 28])\n"
          ]
        }
      ]
    },
    {
      "cell_type": "code",
      "source": [
        "print(mnist_trainset[0][0].shape)"
      ],
      "metadata": {
        "colab": {
          "base_uri": "https://localhost:8080/"
        },
        "id": "bM1R6HlNmGrq",
        "outputId": "093f6688-9e68-4796-8a75-97e961bc2649"
      },
      "execution_count": 10,
      "outputs": [
        {
          "output_type": "stream",
          "name": "stdout",
          "text": [
            "torch.Size([784])\n"
          ]
        }
      ]
    },
    {
      "cell_type": "code",
      "source": [
        "batch_size = 64\n",
        "train_loader = DataLoader(mnist_trainset, batch_size=batch_size, shuffle=True)\n",
        "test_loader = DataLoader(mnist_testset, batch_size=batch_size, shuffle=False)"
      ],
      "metadata": {
        "id": "ZVTsG0xTmGi-"
      },
      "execution_count": 11,
      "outputs": []
    },
    {
      "cell_type": "markdown",
      "source": [
        "Model architecture:\n",
        "- Input layer (784 neurons)\n",
        "- Hidden layers with 500, 250, and 100 neurons using Sigmoid activations\n",
        "- Output layer with 10 neurons (linear, raw logits)\n",
        "- Glorot uniform weight initialization and zeros biases per assignment"
      ],
      "metadata": {
        "id": "La8rUJE3o3AC"
      }
    },
    {
      "cell_type": "code",
      "source": [
        "class MLP(nn.Module):\n",
        "  def __init__(self, input_dim = 784, hidden_dims = [500, 250, 100], output_dim = 10 ):\n",
        "\n",
        "      layer_sizes = [input_dim] + hidden_dims + [output_dim]\n",
        "\n",
        "      # Initialize weights and biases (Glorot initialization, zero biases)\n",
        "      self.weights = []\n",
        "      self.biases = []\n",
        "      for i in range(len(layer_sizes) - 1):\n",
        "          fan_in = layer_sizes[i]\n",
        "          fan_out = layer_sizes[i + 1]\n",
        "          limit = np.sqrt(6 / (fan_in + fan_out))\n",
        "          W = np.random.uniform(-limit, limit, size=(fan_in, fan_out))\n",
        "          b = np.zeros((1, fan_out))\n",
        "          self.weights.append(W)\n",
        "          self.biases.append(b)\n",
        "\n",
        "  def sigmoid(self, x):\n",
        "        return 1 / (1 + np.exp(-x))\n",
        "\n",
        "  def sigmoid_derivative(self, x):\n",
        "        return x * (1 - x)\n",
        "\n",
        "  def softmax(self, x):\n",
        "        exp_x = np.exp(x - np.max(x))\n",
        "        return exp_x / exp_x.sum(axis=1, keepdims=True)\n",
        "\n",
        "  def forward(self, X):\n",
        "        # Storing the inputs in arrays for backpropogation\n",
        "        self.inputs = []\n",
        "        self.z_values = []\n",
        "\n",
        "        # Input layer to first hidden layer\n",
        "        z1 = X @ self.weights[0] + self.biases[0]\n",
        "        a1 = self.sigmoid(z1)\n",
        "\n",
        "        # First hidden layer to second hidden layer\n",
        "        z2 = a1 @ self.weights[1] + self.biases[1]\n",
        "        a2 = self.sigmoid(z2)\n",
        "\n",
        "        # Second hidden layer to third one\n",
        "        z3 = a2 @ self.weights[2] + self.biases[2]\n",
        "        a3 = self.sigmoid(z3)\n",
        "\n",
        "        # Third hidden layer to output using Softmax\n",
        "        z4 = a3 @ self.weights[3] + self.biases[3]\n",
        "        output = self.softmax(z4)\n",
        "\n",
        "        # Updating the vectors to store inputs and outputs before activation\n",
        "        self.inputs = [X, a1, a2, a3]\n",
        "        self.z_values = [z1, z2, z3, z4]\n",
        "\n",
        "        return output\n",
        "\n",
        "  def compute_loss(self, y_true, y_pred):\n",
        "        m = y_true.shape[0]\n",
        "        eps = 1e-9\n",
        "        log_preds = np.log(y_pred + eps)\n",
        "        loss = -np.sum(y_true * log_preds) / m\n",
        "        return loss\n",
        "\n",
        "  def backward(self, y_true, y_pred, learning_rate):\n",
        "        m = y_true.shape[0]\n",
        "\n",
        "        delta4 = (y_pred - y_true) / m  # output error\n",
        "\n",
        "        dW4 = self.inputs[3].T @ delta4\n",
        "        db4 = np.sum(delta4, axis=0, keepdims=True)\n",
        "\n",
        "        delta3 = delta4 @ self.weights[3].T * self.sigmoid_derivative(self.inputs[3])\n",
        "        dW3 = self.inputs[2].T @ delta3\n",
        "        db3 = np.sum(delta3, axis=0, keepdims=True)\n",
        "\n",
        "        delta2 = delta3 @ self.weights[2].T * self.sigmoid_derivative(self.inputs[2])\n",
        "        dW2 = self.inputs[1].T @ delta2\n",
        "        db2 = np.sum(delta2, axis=0, keepdims=True)\n",
        "\n",
        "        delta1 = delta2 @ self.weights[1].T * self.sigmoid_derivative(self.inputs[1])\n",
        "        dW1 = self.inputs[0].T @ delta1\n",
        "        db1 = np.sum(delta1, axis=0, keepdims=True)\n",
        "\n",
        "        # Update weights and biases\n",
        "        self.weights[3] -= learning_rate * dW4\n",
        "        self.biases[3] -= learning_rate * db4\n",
        "\n",
        "        self.weights[2] -= learning_rate * dW3\n",
        "        self.biases[2] -= learning_rate * db3\n",
        "\n",
        "        self.weights[1] -= learning_rate * dW2\n",
        "        self.biases[1] -= learning_rate * db2\n",
        "\n",
        "        self.weights[0] -= learning_rate * dW1\n",
        "        self.biases[0] -= learning_rate * db1\n"
      ],
      "metadata": {
        "id": "nixecqE7oWoP"
      },
      "execution_count": 12,
      "outputs": []
    },
    {
      "cell_type": "code",
      "source": [
        "def one_hot_encode(labels, num_classes=10):\n",
        "    return np.eye(num_classes)[labels]"
      ],
      "metadata": {
        "id": "fSLmc_lz2sZB"
      },
      "execution_count": 13,
      "outputs": []
    },
    {
      "cell_type": "code",
      "source": [
        "def train(model, train_loader, epochs=15, learning_rate=0.01):\n",
        "    loss_history = []\n",
        "    for epoch in range(epochs):\n",
        "        epoch_loss = 0.0\n",
        "        batch_count = 0\n",
        "\n",
        "        for batch_idx, (images, labels) in enumerate(train_loader):\n",
        "            # Convert tensors to numpy arrays\n",
        "            X = images.numpy()\n",
        "            y_indices = labels.numpy()\n",
        "            y = one_hot_encode(y_indices)\n",
        "\n",
        "            # Forward pass\n",
        "            output = model.forward(X)\n",
        "\n",
        "            # Compute loss\n",
        "            loss = model.compute_loss(y, output)\n",
        "            epoch_loss += loss\n",
        "            batch_count += 1\n",
        "\n",
        "            # Backward pass and update weights\n",
        "            model.backward(y, output, learning_rate)\n",
        "\n",
        "        avg_loss = epoch_loss / batch_count\n",
        "        loss_history.append(avg_loss)\n",
        "        print(f\"Epoch {epoch+1}/{epochs}, Loss: {avg_loss:.4f}\")\n",
        "\n",
        "    # Plot training loss\n",
        "    plt.figure(figsize=(8,6))\n",
        "    plt.plot(range(1, epochs+1), loss_history, marker='o')\n",
        "    plt.title('Training Loss over Epochs')\n",
        "    plt.xlabel('Epoch')\n",
        "    plt.ylabel('Loss')\n",
        "    plt.grid(True)\n",
        "    plt.show()\n",
        "\n",
        "    return loss_history\n",
        "\n",
        "# Initialization & training\n",
        "model = MLP()\n",
        "loss_history = train(model, train_loader)"
      ],
      "metadata": {
        "colab": {
          "base_uri": "https://localhost:8080/",
          "height": 824
        },
        "id": "jpE15rGw2s6P",
        "outputId": "cbc6b691-1fa3-437c-9229-c77003a37822"
      },
      "execution_count": 19,
      "outputs": [
        {
          "output_type": "stream",
          "name": "stdout",
          "text": [
            "Epoch 1/15, Loss: 2.3010\n",
            "Epoch 2/15, Loss: 2.2848\n",
            "Epoch 3/15, Loss: 2.2686\n",
            "Epoch 4/15, Loss: 2.2429\n",
            "Epoch 5/15, Loss: 2.1953\n",
            "Epoch 6/15, Loss: 2.0928\n",
            "Epoch 7/15, Loss: 1.8908\n",
            "Epoch 8/15, Loss: 1.6267\n",
            "Epoch 9/15, Loss: 1.3782\n",
            "Epoch 10/15, Loss: 1.1831\n",
            "Epoch 11/15, Loss: 1.0296\n",
            "Epoch 12/15, Loss: 0.9102\n",
            "Epoch 13/15, Loss: 0.8209\n",
            "Epoch 14/15, Loss: 0.7511\n",
            "Epoch 15/15, Loss: 0.6934\n"
          ]
        },
        {
          "output_type": "display_data",
          "data": {
            "text/plain": [
              "<Figure size 800x600 with 1 Axes>"
            ],
            "image/png": "[encoded data removed]"
          },
          "metadata": {}
        }
      ]
    },
    {
      "cell_type": "code",
      "source": [
        "from sklearn.metrics import confusion_matrix, classification_report"
      ],
      "metadata": {
        "id": "uUOG2HXK4JFQ"
      },
      "execution_count": 20,
      "outputs": []
    },
    {
      "cell_type": "code",
      "source": [
        "def predict(model, X):\n",
        "    \"\"\"\n",
        "    Predict class labels for input X using trained model.\n",
        "    \"\"\"\n",
        "    probs = model.forward(X)\n",
        "    preds = np.argmax(probs, axis=1)\n",
        "    return preds\n",
        "\n",
        "def evaluate(model, X, y_true):\n",
        "    \"\"\"\n",
        "    Evaluate model accuracy, print classification report and confusion matrix.\n",
        "    y_true must be integer labels (not one-hot).\n",
        "    \"\"\"\n",
        "    preds = predict(model, X)\n",
        "    accuracy = np.mean(preds == y_true)\n",
        "    print(f\"Accuracy: {accuracy*100:.2f}%\")\n",
        "\n",
        "    print(\"Confusion Matrix:\")\n",
        "    print(confusion_matrix(y_true, preds))\n",
        "\n",
        "    print(\"\\nClassification Report:\")\n",
        "    print(classification_report(y_true, preds))\n",
        "\n",
        "    return accuracy\n",
        "\n",
        "def plot_training_curves(train_losses):\n",
        "    \"\"\"\n",
        "    Plot training loss curve over epochs.\n",
        "    \"\"\"\n",
        "    plt.figure(figsize=(8,5))\n",
        "    plt.plot(range(1, len(train_losses)+1), train_losses, marker='o')\n",
        "    plt.title(\"Training Loss over Epochs\")\n",
        "    plt.xlabel(\"Epoch\")\n",
        "    plt.ylabel(\"Loss\")\n",
        "    plt.grid(True)\n",
        "    plt.show()\n"
      ],
      "metadata": {
        "id": "EXmUE8N54KrB"
      },
      "execution_count": 21,
      "outputs": []
    },
    {
      "cell_type": "code",
      "source": [
        "plot_training_curves(loss_history)\n",
        "\n",
        "# Convert test dataset to NumPy arrays, flatten, normalize, and get labels (as integers)\n",
        "X_test_np = mnist_testset.data.numpy().reshape(-1, 28*28) / 255.0\n",
        "y_test_np = mnist_testset.targets.numpy()\n",
        "\n",
        "# Evaluate model performance on test set\n",
        "evaluate(model, X_test_np, y_test_np)\n"
      ],
      "metadata": {
        "colab": {
          "base_uri": "https://localhost:8080/",
          "height": 1000
        },
        "id": "kdAIck-p4mTS",
        "outputId": "41b080cc-76fe-4a50-e9c5-c880d1ddd837"
      },
      "execution_count": 22,
      "outputs": [
        {
          "output_type": "display_data",
          "data": {
            "text/plain": [
              "<Figure size 800x500 with 1 Axes>"
            ],
            "image/png": "[encoded data removed]"
          },
          "metadata": {}
        },
        {
          "output_type": "stream",
          "name": "stdout",
          "text": [
            "Accuracy: 81.30%\n",
            "Confusion Matrix:\n",
            "[[ 933    0    2    2    3   31    6    1    2    0]\n",
            " [   0 1107    7    6    0    1    3    2    8    1]\n",
            " [  19   27  822   32   26    6   31   10   50    9]\n",
            " [   4   10   34  802    1   63    1   22   66    7]\n",
            " [   1    3    2    0  779    0   23    3    5  166]\n",
            " [  41    3   22  118   11  601   28   20   25   23]\n",
            " [  28    3   20    0   20   17  869    0    1    0]\n",
            " [   2   38   11    0    8    7    0  888   25   49]\n",
            " [  24   23   58   59   19   41   11   23  672   44]\n",
            " [  16    7    2    4  186   10    2  109   16  657]]\n",
            "\n",
            "Classification Report:\n",
            "              precision    recall  f1-score   support\n",
            "\n",
            "           0       0.87      0.95      0.91       980\n",
            "           1       0.91      0.98      0.94      1135\n",
            "           2       0.84      0.80      0.82      1032\n",
            "           3       0.78      0.79      0.79      1010\n",
            "           4       0.74      0.79      0.77       982\n",
            "           5       0.77      0.67      0.72       892\n",
            "           6       0.89      0.91      0.90       958\n",
            "           7       0.82      0.86      0.84      1028\n",
            "           8       0.77      0.69      0.73       974\n",
            "           9       0.69      0.65      0.67      1009\n",
            "\n",
            "    accuracy                           0.81     10000\n",
            "   macro avg       0.81      0.81      0.81     10000\n",
            "weighted avg       0.81      0.81      0.81     10000\n",
            "\n"
          ]
        },
        {
          "output_type": "execute_result",
          "data": {
            "text/plain": [
              "np.float64(0.813)"
            ]
          },
          "metadata": {},
          "execution_count": 22
        }
      ]
    }
  ]
}